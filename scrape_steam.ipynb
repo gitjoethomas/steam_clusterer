{
 "cells": [
  {
   "cell_type": "code",
   "execution_count": null,
   "metadata": {},
   "outputs": [],
   "source": [
    "# this could be a class, instantiated with the user's steam key to connect to the api"
   ]
  },
  {
   "cell_type": "code",
   "execution_count": 1,
   "metadata": {},
   "outputs": [],
   "source": [
    "import pandas as pd\n",
    "import numpy as np\n",
    "import requests\n",
    "import keyring"
   ]
  },
  {
   "cell_type": "code",
   "execution_count": null,
   "metadata": {},
   "outputs": [],
   "source": [
    "# keyring.set_password('steam',username = 'IcyJoseph',password = 'E0152C2E7BF8A5AA0361A4DADCCE2287') # password config\n",
    "# keyring.get_password('steam', 'IcyJoseph')"
   ]
  },
  {
   "cell_type": "code",
   "execution_count": 2,
   "metadata": {},
   "outputs": [],
   "source": [
    "password = keyring.get_password(service_name = 'steam', username = 'IcyJoseph')\n",
    "steam_id = '76561198985648791'"
   ]
  },
  {
   "cell_type": "code",
   "execution_count": 3,
   "metadata": {},
   "outputs": [
    {
     "data": {
      "text/html": [
       "<div>\n",
       "<style scoped>\n",
       "    .dataframe tbody tr th:only-of-type {\n",
       "        vertical-align: middle;\n",
       "    }\n",
       "\n",
       "    .dataframe tbody tr th {\n",
       "        vertical-align: top;\n",
       "    }\n",
       "\n",
       "    .dataframe thead th {\n",
       "        text-align: right;\n",
       "    }\n",
       "</style>\n",
       "<table border=\"1\" class=\"dataframe\">\n",
       "  <thead>\n",
       "    <tr style=\"text-align: right;\">\n",
       "      <th></th>\n",
       "      <th>user_id</th>\n",
       "    </tr>\n",
       "  </thead>\n",
       "  <tbody>\n",
       "    <tr>\n",
       "      <th>0</th>\n",
       "      <td>151603712</td>\n",
       "    </tr>\n",
       "    <tr>\n",
       "      <th>1</th>\n",
       "      <td>59945701</td>\n",
       "    </tr>\n",
       "    <tr>\n",
       "      <th>2</th>\n",
       "      <td>53875128</td>\n",
       "    </tr>\n",
       "    <tr>\n",
       "      <th>3</th>\n",
       "      <td>26122540</td>\n",
       "    </tr>\n",
       "    <tr>\n",
       "      <th>4</th>\n",
       "      <td>126340495</td>\n",
       "    </tr>\n",
       "  </tbody>\n",
       "</table>\n",
       "</div>"
      ],
      "text/plain": [
       "     user_id\n",
       "0  151603712\n",
       "1   59945701\n",
       "2   53875128\n",
       "3   26122540\n",
       "4  126340495"
      ]
     },
     "execution_count": 3,
     "metadata": {},
     "output_type": "execute_result"
    }
   ],
   "source": [
    "file = open('steam_ids', mode = 'r')# read in file\n",
    "user_ids = file.read()\n",
    "user_ids = user_ids.replace(\" \",\"\") # cleaning\n",
    "user_ids = user_ids[1:-1].split(\",\")\n",
    "user_ids = pd.DataFrame({'user_id':user_ids})\n",
    "\n",
    "user_ids.head()"
   ]
  },
  {
   "cell_type": "code",
   "execution_count": 4,
   "metadata": {},
   "outputs": [],
   "source": [
    "def get_player_info(steam_id):\n",
    "    \n",
    "    response = requests.get(\n",
    "        f'http://api.steampowered.com/ISteamUser/GetPlayerSummaries/v0002/?key={password}&steamids={steam_id}')\n",
    "    return response"
   ]
  },
  {
   "cell_type": "code",
   "execution_count": 5,
   "metadata": {},
   "outputs": [],
   "source": [
    "def get_friends(steam_id):\n",
    "    # returns basic profile information\n",
    "    response = requests.get(\n",
    "        f'http://api.steampowered.com/ISteamUser/GetFriendList/v0001/?key={password}&steamid={steam_id}&relationship=friend')\n",
    "    return response"
   ]
  },
  {
   "cell_type": "code",
   "execution_count": 6,
   "metadata": {},
   "outputs": [],
   "source": [
    "def get_games(steam_id):\n",
    "    # returns basic profile information\n",
    "    response = requests.get(\n",
    "        f'http://api.steampowered.com/IPlayerService/GetOwnedGames/v0001/?key={password}&steamid={steam_id}&format=json')\n",
    "    return response"
   ]
  },
  {
   "cell_type": "code",
   "execution_count": 7,
   "metadata": {},
   "outputs": [],
   "source": [
    "me = get_player_info(steam_id)\n",
    "friends = get_friends(steam_id)\n",
    "games = get_games(steam_id)"
   ]
  },
  {
   "cell_type": "code",
   "execution_count": 9,
   "metadata": {},
   "outputs": [
    {
     "data": {
      "text/plain": [
       "b'{\"response\":{\"players\":[{\"steamid\":\"76561198985648791\",\"communityvisibilitystate\":3,\"personaname\":\"josephwthomas\",\"lastlogoff\":1566584671,\"profileurl\":\"https://steamcommunity.com/profiles/76561198985648791/\",\"avatar\":\"https://steamcdn-a.akamaihd.net/steamcommunity/public/images/avatars/fe/fef49e7fa7e1997310d705b2a6158ff8dc1cdfeb.jpg\",\"avatarmedium\":\"https://steamcdn-a.akamaihd.net/steamcommunity/public/images/avatars/fe/fef49e7fa7e1997310d705b2a6158ff8dc1cdfeb_medium.jpg\",\"avatarfull\":\"https://steamcdn-a.akamaihd.net/steamcommunity/public/images/avatars/fe/fef49e7fa7e1997310d705b2a6158ff8dc1cdfeb_full.jpg\",\"personastate\":1,\"primaryclanid\":\"103582791429521408\",\"timecreated\":1566556156,\"personastateflags\":0}]}}'"
      ]
     },
     "execution_count": 9,
     "metadata": {},
     "output_type": "execute_result"
    }
   ],
   "source": [
    "me.content"
   ]
  },
  {
   "cell_type": "code",
   "execution_count": 10,
   "metadata": {},
   "outputs": [
    {
     "data": {
      "text/plain": [
       "b'{\"friendslist\":{\"friends\":[]}}'"
      ]
     },
     "execution_count": 10,
     "metadata": {},
     "output_type": "execute_result"
    }
   ],
   "source": [
    "friends.content"
   ]
  },
  {
   "cell_type": "code",
   "execution_count": 11,
   "metadata": {},
   "outputs": [
    {
     "data": {
      "text/plain": [
       "b'{\"response\":{\"game_count\":1,\"games\":[{\"appid\":241930,\"playtime_forever\":0}]}}'"
      ]
     },
     "execution_count": 11,
     "metadata": {},
     "output_type": "execute_result"
    }
   ],
   "source": [
    "games.content"
   ]
  },
  {
   "cell_type": "code",
   "execution_count": null,
   "metadata": {},
   "outputs": [],
   "source": [
    "# next steps:\n",
    "    # get list of active steam_ids (scraping forum?)\n",
    "    # find a lookup from appid to game name\n",
    "    # create function that takes friend's steam_id as an input and returns their top (5? 10?) played games\n",
    "    # pull some sort of info on players"
   ]
  }
 ],
 "metadata": {
  "kernelspec": {
   "display_name": "Python 3",
   "language": "python",
   "name": "python3"
  },
  "language_info": {
   "codemirror_mode": {
    "name": "ipython",
    "version": 3
   },
   "file_extension": ".py",
   "mimetype": "text/x-python",
   "name": "python",
   "nbconvert_exporter": "python",
   "pygments_lexer": "ipython3",
   "version": "3.7.1"
  }
 },
 "nbformat": 4,
 "nbformat_minor": 2
}
