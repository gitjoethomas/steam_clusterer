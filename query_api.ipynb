{
 "cells": [
  {
   "cell_type": "code",
   "execution_count": null,
   "metadata": {},
   "outputs": [],
   "source": [
    "# this could be a class, instantiated with the user's steam key to connect to the api"
   ]
  },
  {
   "cell_type": "code",
   "execution_count": 91,
   "metadata": {},
   "outputs": [],
   "source": [
    "import pandas as pd\n",
    "import numpy as np\n",
    "import requests\n",
    "import keyring\n",
    "from IPython.display import clear_output"
   ]
  },
  {
   "cell_type": "code",
   "execution_count": null,
   "metadata": {},
   "outputs": [],
   "source": [
    "# keyring.set_password('steam',username = 'IcyJoseph',password = 'E0152C2E7BF8A5AA0361A4DADCCE2287') # password config\n",
    "# keyring.get_password('steam', 'IcyJoseph')"
   ]
  },
  {
   "cell_type": "code",
   "execution_count": null,
   "metadata": {},
   "outputs": [],
   "source": [
    "number_ids_you_want = 1000000 # how many unique steam ids do you want? the API queryer will stop when it has more than\n",
    "                              # this many"
   ]
  },
  {
   "cell_type": "code",
   "execution_count": 78,
   "metadata": {},
   "outputs": [],
   "source": [
    "password = keyring.get_password(service_name = 'steam', username = 'IcyJoseph')\n",
    "steam_id = '76561198985648791' # this is my steam_id\n",
    "new_id = '76561198020258797' # this is an ID I got from reddit - here:\n",
    "#                             https://www.reddit.com/r/Steam/comments/68yr8k/building_a_big_list_of_steam_ids_hit_me_up_if_you/"
   ]
  },
  {
   "cell_type": "code",
   "execution_count": 3,
   "metadata": {},
   "outputs": [
    {
     "data": {
      "text/html": [
       "<div>\n",
       "<style scoped>\n",
       "    .dataframe tbody tr th:only-of-type {\n",
       "        vertical-align: middle;\n",
       "    }\n",
       "\n",
       "    .dataframe tbody tr th {\n",
       "        vertical-align: top;\n",
       "    }\n",
       "\n",
       "    .dataframe thead th {\n",
       "        text-align: right;\n",
       "    }\n",
       "</style>\n",
       "<table border=\"1\" class=\"dataframe\">\n",
       "  <thead>\n",
       "    <tr style=\"text-align: right;\">\n",
       "      <th></th>\n",
       "      <th>user_id</th>\n",
       "    </tr>\n",
       "  </thead>\n",
       "  <tbody>\n",
       "    <tr>\n",
       "      <th>0</th>\n",
       "      <td>151603712</td>\n",
       "    </tr>\n",
       "    <tr>\n",
       "      <th>1</th>\n",
       "      <td>59945701</td>\n",
       "    </tr>\n",
       "    <tr>\n",
       "      <th>2</th>\n",
       "      <td>53875128</td>\n",
       "    </tr>\n",
       "    <tr>\n",
       "      <th>3</th>\n",
       "      <td>26122540</td>\n",
       "    </tr>\n",
       "    <tr>\n",
       "      <th>4</th>\n",
       "      <td>126340495</td>\n",
       "    </tr>\n",
       "  </tbody>\n",
       "</table>\n",
       "</div>"
      ],
      "text/plain": [
       "     user_id\n",
       "0  151603712\n",
       "1   59945701\n",
       "2   53875128\n",
       "3   26122540\n",
       "4  126340495"
      ]
     },
     "execution_count": 3,
     "metadata": {},
     "output_type": "execute_result"
    }
   ],
   "source": [
    "file = open('steam_ids', mode = 'r')# read in file\n",
    "user_ids = file.read()\n",
    "user_ids = user_ids.replace(\" \",\"\") # cleaning\n",
    "user_ids = user_ids[1:-1].split(\",\")\n",
    "user_ids = pd.DataFrame({'user_id':user_ids})\n",
    "\n",
    "# user_ids.head()"
   ]
  },
  {
   "cell_type": "code",
   "execution_count": 6,
   "metadata": {},
   "outputs": [],
   "source": [
    "def get_player_info(steam_id):\n",
    "    \n",
    "    response = requests.get(\n",
    "        f'http://api.steampowered.com/ISteamUser/GetPlayerSummaries/v0002/?key={password}&steamids={steam_id}')\n",
    "    return response"
   ]
  },
  {
   "cell_type": "code",
   "execution_count": 14,
   "metadata": {},
   "outputs": [],
   "source": [
    "def get_friends(steam_id):\n",
    "    # returns basic profile information\n",
    "    response = requests.get(\n",
    "        f'http://api.steampowered.com/ISteamUser/GetFriendList/v0001/?key={password}&steamid={steam_id}&relationship=friend')\n",
    "    return response"
   ]
  },
  {
   "cell_type": "code",
   "execution_count": 8,
   "metadata": {},
   "outputs": [],
   "source": [
    "def get_games(steam_id):\n",
    "    # returns basic profile information\n",
    "    response = requests.get(\n",
    "        f'http://api.steampowered.com/IPlayerService/GetOwnedGames/v0001/?key={password}&steamid={steam_id}&format=json')\n",
    "    return response"
   ]
  },
  {
   "cell_type": "code",
   "execution_count": 20,
   "metadata": {},
   "outputs": [],
   "source": [
    "# me = get_player_info(steam_id)\n",
    "# friends = get_friends(steam_id)\n",
    "# games = get_games(steam_id)"
   ]
  },
  {
   "cell_type": "code",
   "execution_count": 21,
   "metadata": {},
   "outputs": [
    {
     "data": {
      "text/plain": [
       "b'{\"response\":{\"players\":[{\"steamid\":\"76561198985648791\",\"communityvisibilitystate\":3,\"personaname\":\"josephwthomas\",\"lastlogoff\":1566641611,\"profileurl\":\"https://steamcommunity.com/profiles/76561198985648791/\",\"avatar\":\"https://steamcdn-a.akamaihd.net/steamcommunity/public/images/avatars/fe/fef49e7fa7e1997310d705b2a6158ff8dc1cdfeb.jpg\",\"avatarmedium\":\"https://steamcdn-a.akamaihd.net/steamcommunity/public/images/avatars/fe/fef49e7fa7e1997310d705b2a6158ff8dc1cdfeb_medium.jpg\",\"avatarfull\":\"https://steamcdn-a.akamaihd.net/steamcommunity/public/images/avatars/fe/fef49e7fa7e1997310d705b2a6158ff8dc1cdfeb_full.jpg\",\"personastate\":1,\"primaryclanid\":\"103582791429521408\",\"timecreated\":1566556156,\"personastateflags\":0}]}}'"
      ]
     },
     "execution_count": 21,
     "metadata": {},
     "output_type": "execute_result"
    }
   ],
   "source": [
    "# me.content # my profile info"
   ]
  },
  {
   "cell_type": "code",
   "execution_count": 22,
   "metadata": {},
   "outputs": [
    {
     "data": {
      "text/plain": [
       "b'{\"friendslist\":{\"friends\":[]}}'"
      ]
     },
     "execution_count": 22,
     "metadata": {},
     "output_type": "execute_result"
    }
   ],
   "source": [
    "# friends.content # i have no friends"
   ]
  },
  {
   "cell_type": "code",
   "execution_count": 23,
   "metadata": {},
   "outputs": [
    {
     "data": {
      "text/plain": [
       "b'{\"response\":{\"game_count\":1,\"games\":[{\"appid\":241930,\"playtime_forever\":0}]}}'"
      ]
     },
     "execution_count": 23,
     "metadata": {},
     "output_type": "execute_result"
    }
   ],
   "source": [
    "# games.content # i only have one game. need to get a lookup from appid to name of game (it's middle earth: shadow of mordor)"
   ]
  },
  {
   "cell_type": "code",
   "execution_count": null,
   "metadata": {},
   "outputs": [],
   "source": [
    "# next steps:\n",
    "    # get list of active steam_ids (scraping forum?)\n",
    "    # find a lookup from appid to game name\n",
    "    # create function that takes friend's steam_id as an input and returns their top (5? 10?) played games\n",
    "    # pull some sort of info on players"
   ]
  },
  {
   "cell_type": "code",
   "execution_count": 80,
   "metadata": {},
   "outputs": [],
   "source": [
    "# takes a steam_id and returns all the id's friends\n",
    "def find_all_friends(steam_id):\n",
    "    \n",
    "    friends = get_friends(steam_id) # query steam api\n",
    "\n",
    "    splitfriends = str(friends.content).split('\"')\n",
    "    all_friends = [i for i in splitfriends if i.isnumeric() == True] # items which are all numeric are steam_ids\n",
    "    \n",
    "    return all_friends"
   ]
  },
  {
   "cell_type": "code",
   "execution_count": 92,
   "metadata": {},
   "outputs": [
    {
     "name": "stdout",
     "output_type": "stream",
     "text": [
      "run 2197 finished, all_ids is 100056 items long\n"
     ]
    }
   ],
   "source": [
    "# need to get a list of active steam ids. \n",
    "# I'm pulling friends own a known popular ID, then pulling friends of each friend, and so on until I get 1M IDs\n",
    "\n",
    "counter = 0\n",
    "all_ids = list()\n",
    "all_ids.append(new_id)\n",
    "\n",
    "while len(all_ids) < number_ids_you_want:\n",
    "    \n",
    "    id_num = all_ids[counter]\n",
    "    steam_ids = find_all_friends(id_num)\n",
    "    \n",
    "    all_ids.extend(steam_ids) # .extend() adds an iterable to a list, returning one list instead of a list of list\n",
    "    all_ids = set(all_ids)\n",
    "    all_ids = list(all_ids)\n",
    "    \n",
    "#     clear_output()\n",
    "    print(\"run \"+str(counter+1)+\" finished, all_ids is \"+str(len(all_ids))+\" items long\")\n",
    "    \n",
    "    counter += 1"
   ]
  },
  {
   "cell_type": "code",
   "execution_count": 93,
   "metadata": {},
   "outputs": [
    {
     "data": {
      "text/plain": [
       "2101176"
      ]
     },
     "execution_count": 93,
     "metadata": {},
     "output_type": "execute_result"
    }
   ],
   "source": [
    "file = open('all_steam_ids', mode = 'w+') # in the future, the lookup will just be a function i'll import and call\n",
    "file.write(str(all_ids))"
   ]
  }
 ],
 "metadata": {
  "kernelspec": {
   "display_name": "Python 3",
   "language": "python",
   "name": "python3"
  },
  "language_info": {
   "codemirror_mode": {
    "name": "ipython",
    "version": 3
   },
   "file_extension": ".py",
   "mimetype": "text/x-python",
   "name": "python",
   "nbconvert_exporter": "python",
   "pygments_lexer": "ipython3",
   "version": "3.7.1"
  }
 },
 "nbformat": 4,
 "nbformat_minor": 2
}
