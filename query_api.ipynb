{
 "cells": [
  {
   "cell_type": "code",
   "execution_count": 1,
   "metadata": {},
   "outputs": [],
   "source": [
    "# this could be a class, instantiated with the user's steam key to connect to the api"
   ]
  },
  {
   "cell_type": "code",
   "execution_count": 1,
   "metadata": {},
   "outputs": [],
   "source": [
    "import pandas as pd\n",
    "import numpy as np\n",
    "import requests\n",
    "import keyring\n",
    "import time\n",
    "import re\n",
    "from IPython.display import clear_output"
   ]
  },
  {
   "cell_type": "code",
   "execution_count": 3,
   "metadata": {},
   "outputs": [],
   "source": [
    "# keyring.set_password('steam',username = 'IcyJoseph',password = 'E0152C2E7BF8A5AA0361A4DADCCE2287') # password config\n",
    "# keyring.get_password('steam', 'IcyJoseph')"
   ]
  },
  {
   "cell_type": "code",
   "execution_count": 2,
   "metadata": {},
   "outputs": [],
   "source": [
    "number_ids_you_want = 1000 # how many unique steam ids do you want? the API queryer will stop when it has more than\n",
    "                              # this many"
   ]
  },
  {
   "cell_type": "code",
   "execution_count": 3,
   "metadata": {},
   "outputs": [],
   "source": [
    "password = keyring.get_password(service_name = 'steam', username = 'IcyJoseph')\n",
    "steam_id = '76561198985648791' # this is my steam_id\n",
    "new_id = '76561198020258797' # this is an ID I got from reddit - here:\n",
    "#                             https://www.reddit.com/r/Steam/comments/68yr8k/building_a_big_list_of_steam_ids_hit_me_up_if_you/"
   ]
  },
  {
   "cell_type": "code",
   "execution_count": 4,
   "metadata": {},
   "outputs": [],
   "source": [
    "def get_player_info(steam_id):\n",
    "    \n",
    "    response = requests.get(\n",
    "        f'http://api.steampowered.com/ISteamUser/GetPlayerSummaries/v0002/?key={password}&steamids={steam_id}')\n",
    "    return response"
   ]
  },
  {
   "cell_type": "code",
   "execution_count": 5,
   "metadata": {},
   "outputs": [],
   "source": [
    "def get_friends(steam_id):\n",
    "    # returns basic profile information\n",
    "    response = requests.get(\n",
    "        f'http://api.steampowered.com/ISteamUser/GetFriendList/v0001/?key={password}&steamid={steam_id}&relationship=friend')\n",
    "    return response"
   ]
  },
  {
   "cell_type": "code",
   "execution_count": 6,
   "metadata": {},
   "outputs": [],
   "source": [
    "def get_games(steam_id):\n",
    "    # returns basic profile information\n",
    "    response = requests.get(\n",
    "    f'''http://api.steampowered.com/IPlayerService/GetOwnedGames/v0001/?key={password}&steamid={steam_id}\n",
    "        &format=json&include_appinfo=true''')\n",
    "    return response"
   ]
  },
  {
   "cell_type": "code",
   "execution_count": null,
   "metadata": {},
   "outputs": [],
   "source": [
    "# me = get_player_info(steam_id)\n",
    "# friends = get_friends(steam_id)\n",
    "# games = get_games(steam_id)"
   ]
  },
  {
   "cell_type": "code",
   "execution_count": 14,
   "metadata": {},
   "outputs": [],
   "source": [
    "# next steps:\n",
    "    # create function that takes friend's steam_id as an input and returns their top (5? 10?) played games\n",
    "    # pull some sort of info on players"
   ]
  },
  {
   "cell_type": "code",
   "execution_count": 15,
   "metadata": {},
   "outputs": [],
   "source": [
    "# takes a steam_id and returns all the id's friends\n",
    "def find_all_friends(steam_id):\n",
    "    \n",
    "    friends = get_friends(steam_id) # query steam api\n",
    "\n",
    "    splitfriends = str(friends.content).split('\"')\n",
    "    all_friends = [i for i in splitfriends if i.isnumeric() == True] # items which are all numeric are steam_ids\n",
    "    \n",
    "    return all_friends"
   ]
  },
  {
   "cell_type": "code",
   "execution_count": 20,
   "metadata": {},
   "outputs": [
    {
     "name": "stdout",
     "output_type": "stream",
     "text": [
      "this is run number 5475, all_ids is 547357 items long\n"
     ]
    }
   ],
   "source": [
    "# need to get a list of active steam ids. \n",
    "# I'm pulling friends own a known popular ID, then pulling friends of each friend, and so on until I get 1M IDs\n",
    "\n",
    "counter_start = 0\n",
    "num_runs = 1\n",
    "all_ids = list()\n",
    "all_ids.append(new_id)\n",
    "\n",
    "while len(all_ids) < number_ids_you_want and counter_start != len(all_ids):\n",
    "    \n",
    "    counter_end = counter_start+100 # the steam api can accept up to 100 steam ids at once, so we'll give it 100...\n",
    "    \n",
    "    if counter_end > len(all_ids): # ... or as many as we can if we don't have 100\n",
    "        counter_end = len(all_ids)\n",
    "        \n",
    "    id_string = [i+\",\" for i in all_ids[counter_start:counter_end]] # pull out the ids from our list\n",
    "    ids = \"\".join(id_string) # and concatenate them all into one string\n",
    "        \n",
    "    time.sleep(0.5)    \n",
    "        \n",
    "    steam_ids = find_all_friends(ids)\n",
    "        \n",
    "    all_ids.extend(steam_ids) # adds the friends pulled to the list of ids to iterate through, so we can keep pulling friends\n",
    "    all_ids = set(all_ids)\n",
    "    all_ids = list(all_ids)\n",
    "    \n",
    "    clear_output()\n",
    "    print(f\"this is run number {num_runs}, counter_start is {counter_start}, all_ids is \"+str(len(all_ids))+\" items long\")\n",
    "    \n",
    "    counter_start = counter_end\n",
    "    num_runs += 1\n",
    "\n",
    "id_df = pd.DataFrame(data = {'id':all_ids}) # export steam ids to csv\n",
    "id_df.to_csv('all_ids.csv', index = False)"
   ]
  },
  {
   "cell_type": "markdown",
   "metadata": {},
   "source": [
    "### Get Games (work in progress)"
   ]
  },
  {
   "cell_type": "code",
   "execution_count": 7,
   "metadata": {},
   "outputs": [],
   "source": [
    "newgames = get_games(new_id)"
   ]
  },
  {
   "cell_type": "code",
   "execution_count": 11,
   "metadata": {},
   "outputs": [
    {
     "data": {
      "text/plain": [
       "b'{\"response\":{\"game_count\":9214,\"games\":[{\"appid\":10,\"name\":\"Counter-Strike\",\"playtime_forever\":552,\"img_icon_url\":\"6b0312cda02f5f777efa2f3318c307ff9acafbb5\",\"img_logo_url\":\"af890f848dd606ac2fd4415de3c3f5e7a66fcb9f\",\"has_community_visible_stats\":true,\"playtime_windows_forever\":0,\"playtime_mac_forever\":0,\"playtime_linux_forever\":0},{\"appid\":30,\"name\":\"Day of Defeat\",\"playtime_forever\":5,\"img_icon_url\":\"aadc0ce51ff6ba2042d633f8ec033b0de62091d0\",\"img_logo_url\":\"beff21c4d29d2579e794c930bae599cd0c8a8f17\",\"has_community_visible_stats\":true,\"playtime_windows_forever\":0,\"playtime_mac_forever\":0,\"playtime_linux_forever\":0},{\"appid\":40,\"name\":\"Deathmatch Classic\",\"playtime_forever\":15,\"img_icon_url\":\"c525f76c8bc7353db4fd74b128c4ae2028426c2a\",\"img_logo_url\":\"4bb69695ef9d0ae73e73488fb6456aa4ea1215fa\",\"has_community_visible_stats\":true,\"playtime_windows_forever\":0,\"playtime_mac_forever\":0,\"playtime_linux_forever\":0},{\"appid\":60,\"name\":\"Ricochet\",\"playtime_forever\":15,\"img_icon_url\":\"98c69e04cd59b838'"
      ]
     },
     "execution_count": 11,
     "metadata": {},
     "output_type": "execute_result"
    }
   ],
   "source": [
    "newgames.content[:1000]"
   ]
  },
  {
   "cell_type": "code",
   "execution_count": 220,
   "metadata": {},
   "outputs": [],
   "source": [
    "# re.finditer returns an iterator object, so we have to use list comprehension to get the index at which the game names begin\n",
    "gamestart = [i.end() for i in re.finditer('name\":\"',str(newgames.content))]\n",
    "\n",
    "gamelist = []\n",
    "\n",
    "for start_index in gamestart: # we're pulling out the names of games for each user_id. This is very slow - needs work\n",
    "    \n",
    "    end_index =  re.search('\",',str(newgames.content)[start_index:])\n",
    "    end_index = end_index.start()\n",
    "    \n",
    "    game = str(newgames.content)[start_index:start_index+end_index]\n",
    "    \n",
    "    gamelist.append(game)"
   ]
  },
  {
   "cell_type": "code",
   "execution_count": 31,
   "metadata": {},
   "outputs": [],
   "source": [
    "players_and_games = pd.DataFrame()\n",
    "\n",
    "start_row = 0\n",
    "end_row = 100\n",
    "\n",
    "id_df.head()"
   ]
  }
 ],
 "metadata": {
  "kernelspec": {
   "display_name": "Python 3",
   "language": "python",
   "name": "python3"
  },
  "language_info": {
   "codemirror_mode": {
    "name": "ipython",
    "version": 3
   },
   "file_extension": ".py",
   "mimetype": "text/x-python",
   "name": "python",
   "nbconvert_exporter": "python",
   "pygments_lexer": "ipython3",
   "version": "3.7.1"
  }
 },
 "nbformat": 4,
 "nbformat_minor": 2
}
