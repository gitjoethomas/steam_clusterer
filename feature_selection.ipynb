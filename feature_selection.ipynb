{
 "cells": [
  {
   "cell_type": "code",
   "execution_count": 1,
   "metadata": {},
   "outputs": [],
   "source": [
    "import pandas as pd\n",
    "import numpy as np\n",
    "import requests\n",
    "import keyring\n",
    "import time\n",
    "from IPython.display import clear_output\n",
    "from queryer import QueryApi\n",
    "import json\n",
    "from datetime import datetime"
   ]
  },
  {
   "cell_type": "code",
   "execution_count": 2,
   "metadata": {},
   "outputs": [],
   "source": [
    "password = keyring.get_password(service_name = 'steam', username = 'IcyJoseph')"
   ]
  },
  {
   "cell_type": "code",
   "execution_count": 3,
   "metadata": {},
   "outputs": [
    {
     "name": "stdout",
     "output_type": "stream",
     "text": [
      "Successfully connected to the Steam API\n"
     ]
    }
   ],
   "source": [
    "api = QueryApi(password)\n",
    "gamesfilter = pd.read_csv('datafiles/gamesfilter.csv')"
   ]
  },
  {
   "cell_type": "code",
   "execution_count": 4,
   "metadata": {},
   "outputs": [],
   "source": [
    "number_ids_you_want = 3000000 # how many unique steam ids do you want? the API queryer will stop when it has more than\n",
    "                              # this many"
   ]
  },
  {
   "cell_type": "markdown",
   "metadata": {},
   "source": [
    "### generate an initial list of steam ids - scraping https://steamcommunity.com/groups/steamuniverse/memberslistxml/"
   ]
  },
  {
   "cell_type": "code",
   "execution_count": 15,
   "metadata": {},
   "outputs": [],
   "source": [
    "def query_steamcommunity(pagenum):\n",
    "    '''\n",
    "    small function to scrape steam ids from the steamcommunity website\n",
    "    '''\n",
    "    page = requests.get(f'https://steamcommunity.com/groups/steamuniverse/memberslistxml/?xml=1&p={pagenum+1}')\n",
    "    \n",
    "    page2 = str(page.content)\n",
    "    page2 = page2.replace(\">\",\"\")\n",
    "    page2 = page2.replace(\"<\",\"\")\n",
    "    page2 = page2.replace(\"/\",\"\")\n",
    "    page3 = str(page2).split(\"steamID64\")\n",
    "    \n",
    "    steam_ids = [i for i in page3 if i.isnumeric()]\n",
    "    \n",
    "    return steam_ids"
   ]
  },
  {
   "cell_type": "code",
   "execution_count": 34,
   "metadata": {},
   "outputs": [
    {
     "name": "stdout",
     "output_type": "stream",
     "text": [
      "done 1700 of 1,000\n"
     ]
    }
   ],
   "source": [
    "open('datafiles/new_list_ids.txt', mode = 'w')\n",
    "wait_multiplier = 1\n",
    "\n",
    "for pagenum in range(1700):\n",
    "    \n",
    "    steam_ids = query_steamcommunity(pagenum)\n",
    "    \n",
    "    while len(steam_ids) == 0:\n",
    "        print(f\"Website refused our query - sleeping - {wait_multiplier * 60}s\")\n",
    "        time.sleep(wait_multiplier * 60) # the steam website will shut you out if you make requests too frequently, \n",
    "                                         # so we take a rest here\n",
    "        steam_ids = query_steamcommunity(pagenum)\n",
    "        wait_multiplier += 1\n",
    "    \n",
    "    wait_multiplier = 1\n",
    "    string_ids = \"\".join(i+\",\" for i in steam_ids)\n",
    "    \n",
    "    with open('datafiles/idlist.txt', mode = 'a') as file:\n",
    "        file.write(string_ids)\n",
    "    \n",
    "    clear_output()\n",
    "    print(f\"done {pagenum+1}\")\n",
    "        \n",
    "    time.sleep(2)"
   ]
  },
  {
   "cell_type": "code",
   "execution_count": 16,
   "metadata": {},
   "outputs": [],
   "source": [
    "# pulling friends from a known id, then pulling friends of each friend, and so on\n",
    "\n",
    "with(open('datafiles/idlist.txt', mode = 'r')) as file:\n",
    "    input_ids = file.read()\n",
    "\n",
    "input_ids = input_ids.replace(\"'\",\"\")\n",
    "input_ids = input_ids.replace(\"[\",\"\")\n",
    "input_ids = input_ids.replace(\"]\",\"\")\n",
    "input_ids = input_ids.split(\", \")\n",
    "\n",
    "counter_start = 0\n",
    "num_runs = 1\n",
    "all_ids = list()\n",
    "\n",
    "while len(all_ids) < number_ids_you_want and counter_start != len(input_ids):\n",
    "    \n",
    "    counter_end = counter_start+100 # the steam api can accept up to 100 steam ids at once, so we'll give it 100...\n",
    "    \n",
    "    if counter_end > len(input_ids): # ... or as many as we can if we don't have 100\n",
    "        counter_end = len(input_ids)\n",
    "        \n",
    "    id_string = [i+\",\" for i in input_ids[counter_start:counter_end]] # pull out the ids from our list\n",
    "    ids = \"\".join(id_string) # and concatenate them all into one string\n",
    "        \n",
    "    time.sleep(0.5)    \n",
    "        \n",
    "    steam_ids = api.find_friends(ids) # query API\n",
    "        \n",
    "    all_ids.extend(steam_ids) # adds public ids to output list\n",
    "    all_ids = list(set(all_ids)) # unique values\n",
    "    \n",
    "    input_ids.extend(steam_ids) # adds the friends just pulled to the list of ids to iterate through, so we can keep pulling\n",
    "    input_ids = list(set(input_ids))\n",
    "    \n",
    "    clear_output()\n",
    "    print(f\"running from {counter_start} to {counter_end}, input_ids is \"+str(len(input_ids))+\" items long\")\n",
    "    \n",
    "    counter_start = counter_end\n",
    "    num_runs += 1\n",
    "\n",
    "id_df = pd.DataFrame(data = {'id':all_ids,'games_played':''}) # export steam ids to csv\n",
    "id_df.to_csv('datafiles/all_ids.csv', index = False)"
   ]
  },
  {
   "cell_type": "markdown",
   "metadata": {},
   "source": [
    "### Get Games (work in progress)"
   ]
  },
  {
   "cell_type": "code",
   "execution_count": 4,
   "metadata": {},
   "outputs": [],
   "source": [
    "all_ids = pd.read_csv('datafiles/all_ids.csv', index_col = 'id', keep_default_na = False, \n",
    "                      dtype = {'games_played':str}) \n",
    "                      # steam will only accept 100k calls a day, and we have 1.7M, so have to do this in bits\n",
    "\n",
    "all_ids['games_played'] = ''\n",
    "all_ids.to_csv('datafiles/all_ids.csv')\n",
    "\n",
    "ids_still_to_query = all_ids[all_ids['games_played'] == ''].copy()\n",
    "\n",
    "if len(ids_still_to_query) >= 20:\n",
    "    ids_still_to_query = ids_still_to_query[:20]\n",
    "    \n",
    "ids_to_run = ids_still_to_query.index"
   ]
  },
  {
   "cell_type": "code",
   "execution_count": 6,
   "metadata": {},
   "outputs": [
    {
     "name": "stdout",
     "output_type": "stream",
     "text": [
      "run 1 of 20 completed\n",
      "run 2 of 20 completed\n",
      "run 3 of 20 completed\n",
      "run 4 of 20 completed\n",
      "run 5 of 20 completed\n",
      "run 6 of 20 completed\n",
      "run 7 of 20 completed\n",
      "run 8 of 20 completed\n",
      "run 9 of 20 completed\n",
      "run 10 of 20 completed\n",
      "run 11 of 20 completed\n",
      "run 12 of 20 completed\n",
      "run 13 of 20 completed\n",
      "run 14 of 20 completed\n",
      "run 15 of 20 completed\n",
      "run 16 of 20 completed\n",
      "run 17 of 20 completed\n",
      "run 18 of 20 completed\n",
      "run 19 of 20 completed\n",
      "run 20 of 20 completed\n"
     ]
    }
   ],
   "source": [
    "maxruns = len(ids_to_run)\n",
    "\n",
    "for runnum, id_num in enumerate(ids_to_run):\n",
    "    try:\n",
    "        newgames = api.get_users_games(id_num) # get all games\n",
    "        restrictedgames = [i for i in newgames if i[0] in gamesfilter['app_id']] \n",
    "                                            # just the 1,000 most important games - otherwise it'll be too many features\n",
    "        game_names = [i[1] for i in restrictedgames]\n",
    "\n",
    "        all_ids.at[id_num,'games_played']= game_names\n",
    "        \n",
    "    except KeyError:\n",
    "        all_ids.at[id_num,'games_played']= 'no games'\n",
    "        continue\n",
    "        \n",
    "    finally:\n",
    "        clear_output()\n",
    "        print(f\"run {runnum+1} of {maxruns} completed\")\n",
    "\n",
    "all_ids.to_csv('datafiles/all_ids.csv')"
   ]
  }
 ],
 "metadata": {
  "kernelspec": {
   "display_name": "Python 3",
   "language": "python",
   "name": "python3"
  },
  "language_info": {
   "codemirror_mode": {
    "name": "ipython",
    "version": 3
   },
   "file_extension": ".py",
   "mimetype": "text/x-python",
   "name": "python",
   "nbconvert_exporter": "python",
   "pygments_lexer": "ipython3",
   "version": "3.7.3"
  }
 },
 "nbformat": 4,
 "nbformat_minor": 2
}
