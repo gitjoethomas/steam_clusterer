{
 "cells": [
  {
   "cell_type": "code",
   "execution_count": 1,
   "metadata": {},
   "outputs": [],
   "source": [
    "# designed for assessing which games are the most popular, then exports the best to a json file\n",
    "# so steam api data can be restricted"
   ]
  },
  {
   "cell_type": "code",
   "execution_count": 1,
   "metadata": {},
   "outputs": [],
   "source": [
    "import pandas as pd\n",
    "import keyring\n",
    "from queryer import QueryApi\n",
    "from ast import literal_eval\n",
    "import json\n",
    "from IPython.display import clear_output"
   ]
  },
  {
   "cell_type": "code",
   "execution_count": 2,
   "metadata": {},
   "outputs": [],
   "source": [
    "password = keyring.get_password(service_name = 'steam', username = 'IcyJoseph')"
   ]
  },
  {
   "cell_type": "code",
   "execution_count": 3,
   "metadata": {},
   "outputs": [
    {
     "name": "stdout",
     "output_type": "stream",
     "text": [
      "Successfully connected to the Steam API\n"
     ]
    }
   ],
   "source": [
    "api = QueryApi(password)"
   ]
  },
  {
   "cell_type": "code",
   "execution_count": 13,
   "metadata": {},
   "outputs": [],
   "source": [
    "df = pd.read_csv('popular_games.csv', usecols = ['players_estimate', 'steam_app_id'])\n",
    "df = df.set_index('steam_app_id')"
   ]
  },
  {
   "cell_type": "code",
   "execution_count": 37,
   "metadata": {
    "scrolled": true
   },
   "outputs": [
    {
     "data": {
      "text/html": [
       "<div>\n",
       "<style scoped>\n",
       "    .dataframe tbody tr th:only-of-type {\n",
       "        vertical-align: middle;\n",
       "    }\n",
       "\n",
       "    .dataframe tbody tr th {\n",
       "        vertical-align: top;\n",
       "    }\n",
       "\n",
       "    .dataframe thead th {\n",
       "        text-align: right;\n",
       "    }\n",
       "</style>\n",
       "<table border=\"1\" class=\"dataframe\">\n",
       "  <thead>\n",
       "    <tr style=\"text-align: right;\">\n",
       "      <th></th>\n",
       "      <th>players_estimate</th>\n",
       "    </tr>\n",
       "    <tr>\n",
       "      <th>steam_app_id</th>\n",
       "      <th></th>\n",
       "    </tr>\n",
       "  </thead>\n",
       "  <tbody>\n",
       "    <tr>\n",
       "      <th>440</th>\n",
       "      <td>50,191,347</td>\n",
       "    </tr>\n",
       "    <tr>\n",
       "      <th>730</th>\n",
       "      <td>46,305,966</td>\n",
       "    </tr>\n",
       "    <tr>\n",
       "      <th>578080</th>\n",
       "      <td>36,604,134</td>\n",
       "    </tr>\n",
       "    <tr>\n",
       "      <th>304930</th>\n",
       "      <td>27,381,399</td>\n",
       "    </tr>\n",
       "    <tr>\n",
       "      <th>550</th>\n",
       "      <td>23,143,723</td>\n",
       "    </tr>\n",
       "  </tbody>\n",
       "</table>\n",
       "</div>"
      ],
      "text/plain": [
       "             players_estimate\n",
       "steam_app_id                 \n",
       "440                50,191,347\n",
       "730                46,305,966\n",
       "578080             36,604,134\n",
       "304930             27,381,399\n",
       "550                23,143,723"
      ]
     },
     "execution_count": 37,
     "metadata": {},
     "output_type": "execute_result"
    }
   ],
   "source": [
    "df.head()"
   ]
  },
  {
   "cell_type": "code",
   "execution_count": null,
   "metadata": {},
   "outputs": [],
   "source": []
  },
  {
   "cell_type": "code",
   "execution_count": 42,
   "metadata": {},
   "outputs": [],
   "source": [
    "df = df.sort_values('players_estimate',ascending = False)\n",
    "top_games = list(df.index[:1000])"
   ]
  },
  {
   "cell_type": "code",
   "execution_count": 33,
   "metadata": {},
   "outputs": [],
   "source": [
    "temp_df = pd.DataFrame(index = [0], data = {'app_id':'440', 'game_name':api.get_game_info(game)['name']})"
   ]
  },
  {
   "cell_type": "code",
   "execution_count": 14,
   "metadata": {},
   "outputs": [
    {
     "name": "stdout",
     "output_type": "stream",
     "text": [
      "4\n"
     ]
    }
   ],
   "source": [
    "game_lookup = pd.DataFrame(columns = ['app_id','game_name','genre'])\n",
    "\n",
    "for game in list(df.index)[:5]:\n",
    "    \n",
    "    try:\n",
    "        gamereturn = api.get_game_info(game)\n",
    "        temp_df = pd.DataFrame(index = [0], \n",
    "                data = {'app_id':game, 'game_name':gamereturn['name'], 'genre':gamereturn['genre']})\n",
    "        game_lookup = game_lookup.append(temp_df)\n",
    "    \n",
    "    except json.decoder.JSONDecodeError:\n",
    "        continue\n",
    "    \n",
    "    clear_output()\n",
    "    print(list(df.index).index(game))\n",
    "    \n",
    "game_lookup = game_lookup.set_index('app_id')"
   ]
  },
  {
   "cell_type": "code",
   "execution_count": 50,
   "metadata": {},
   "outputs": [
    {
     "data": {
      "text/html": [
       "<div>\n",
       "<style scoped>\n",
       "    .dataframe tbody tr th:only-of-type {\n",
       "        vertical-align: middle;\n",
       "    }\n",
       "\n",
       "    .dataframe tbody tr th {\n",
       "        vertical-align: top;\n",
       "    }\n",
       "\n",
       "    .dataframe thead th {\n",
       "        text-align: right;\n",
       "    }\n",
       "</style>\n",
       "<table border=\"1\" class=\"dataframe\">\n",
       "  <thead>\n",
       "    <tr style=\"text-align: right;\">\n",
       "      <th></th>\n",
       "      <th>game_name</th>\n",
       "    </tr>\n",
       "    <tr>\n",
       "      <th>app_id</th>\n",
       "      <th></th>\n",
       "    </tr>\n",
       "  </thead>\n",
       "  <tbody>\n",
       "    <tr>\n",
       "      <th>258970</th>\n",
       "      <td>Gauntlet Slayer Edition</td>\n",
       "    </tr>\n",
       "    <tr>\n",
       "      <th>367520</th>\n",
       "      <td>Hollow Knight</td>\n",
       "    </tr>\n",
       "    <tr>\n",
       "      <th>261570</th>\n",
       "      <td>Ori and the Blind Forest</td>\n",
       "    </tr>\n",
       "    <tr>\n",
       "      <th>412530</th>\n",
       "      <td>Atlantic Quest 2 - New Adventure -</td>\n",
       "    </tr>\n",
       "    <tr>\n",
       "      <th>365340</th>\n",
       "      <td>The Way of the Pixelated Fist</td>\n",
       "    </tr>\n",
       "  </tbody>\n",
       "</table>\n",
       "</div>"
      ],
      "text/plain": [
       "                                 game_name\n",
       "app_id                                    \n",
       "258970             Gauntlet Slayer Edition\n",
       "367520                       Hollow Knight\n",
       "261570            Ori and the Blind Forest\n",
       "412530  Atlantic Quest 2 - New Adventure -\n",
       "365340       The Way of the Pixelated Fist"
      ]
     },
     "execution_count": 50,
     "metadata": {},
     "output_type": "execute_result"
    }
   ],
   "source": [
    "game_lookup.head()"
   ]
  }
 ],
 "metadata": {
  "kernelspec": {
   "display_name": "Python 3",
   "language": "python",
   "name": "python3"
  },
  "language_info": {
   "codemirror_mode": {
    "name": "ipython",
    "version": 3
   },
   "file_extension": ".py",
   "mimetype": "text/x-python",
   "name": "python",
   "nbconvert_exporter": "python",
   "pygments_lexer": "ipython3",
   "version": "3.7.3"
  }
 },
 "nbformat": 4,
 "nbformat_minor": 2
}
